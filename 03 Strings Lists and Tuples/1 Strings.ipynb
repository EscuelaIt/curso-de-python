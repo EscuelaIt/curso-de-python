{
 "cells": [
  {
   "cell_type": "markdown",
   "metadata": {},
   "source": [
    "# Strings, Listas y Tuplas\n",
    "\n",
    "## Introducción a las estructuras de datos\n",
    "\n",
    "En Python, sabemos que podemos almacenar un dato en una variable. Pero que es lo que pasa si tenemos múltiples datos que queremos almacenar, para ellos podemos usar distintas **estructuras de datos** que nos proporciona Python. \n",
    "\n",
    "--- pilas colas estructuras lineales\n",
    "\n",
    "## Definición y manipulación de strings\n",
    "\n",
    "En el primer módulo vimos que los *strings* es una cadena de caracteres donde podemos almacenar texto. En general, podemos almacenar cualquier tipo de caracter del código [ascii](https://elcodigoascii.com.ar):\n",
    "\n",
    "Veamos de qué formas se pueden utilizar los strings:"
   ]
  },
  {
   "cell_type": "code",
   "execution_count": 1,
   "metadata": {},
   "outputs": [
    {
     "name": "stdout",
     "output_type": "stream",
     "text": [
      "<class 'str'>\n",
      "<class 'str'>\n",
      "Mario\n",
      "Rosales\n"
     ]
    }
   ],
   "source": [
    "# Para indicar que la variable es del tipo string, ponemos el valor en comillas ('') o doble comillas (\"\")\n",
    "first_name = 'Mario'\n",
    "last_name = \"Rosales\"\n",
    "\n",
    "print(type(first_name))\n",
    "print(type(last_name))\n",
    "\n",
    "print(first_name)\n",
    "print(last_name)"
   ]
  },
  {
   "cell_type": "markdown",
   "metadata": {},
   "source": [
    "Cuando usamos el operador `+` en cadenas, las cadenas se concaternarán:"
   ]
  },
  {
   "cell_type": "code",
   "execution_count": 2,
   "metadata": {},
   "outputs": [
    {
     "name": "stdout",
     "output_type": "stream",
     "text": [
      "Mi nombre es: Mario Rosales\n"
     ]
    }
   ],
   "source": [
    "full_name = first_name + ' ' + last_name\n",
    "print('Mi nombre es: ' + full_name)"
   ]
  },
  {
   "cell_type": "markdown",
   "metadata": {},
   "source": [
    "Podemos acceder a los caracteres de la cadena, de la siguiente manera:"
   ]
  },
  {
   "cell_type": "code",
   "execution_count": 3,
   "metadata": {},
   "outputs": [
    {
     "name": "stdout",
     "output_type": "stream",
     "text": [
      "M\n",
      "a\n"
     ]
    }
   ],
   "source": [
    "print(first_name[0])    # Accede al primer caracter desde la izquierda\n",
    "print(first_name[1])    # Accede al segundo caracter desde la izquierda\n",
    "\n",
    "# NOTA: El primer caracter está en la posición 0, no en la posición 1"
   ]
  },
  {
   "cell_type": "code",
   "execution_count": 5,
   "metadata": {},
   "outputs": [
    {
     "name": "stdout",
     "output_type": "stream",
     "text": [
      "o\n",
      "i\n"
     ]
    }
   ],
   "source": [
    "# \"Mario\"\n",
    "print(first_name[-1])   # Accede al caracter de última posición\n",
    "print(first_name[-2])   # Accede al caracter de penúltima posición"
   ]
  },
  {
   "cell_type": "markdown",
   "metadata": {},
   "source": [
    "Podemos usar la sentencia `in` para determinar si un caracter se encuentra o no en la cadena:"
   ]
  },
  {
   "cell_type": "code",
   "execution_count": 6,
   "metadata": {},
   "outputs": [
    {
     "data": {
      "text/plain": [
       "True"
      ]
     },
     "execution_count": 6,
     "metadata": {},
     "output_type": "execute_result"
    }
   ],
   "source": [
    "'a' in 'Mario'"
   ]
  },
  {
   "cell_type": "code",
   "execution_count": 7,
   "metadata": {},
   "outputs": [
    {
     "data": {
      "text/plain": [
       "False"
      ]
     },
     "execution_count": 7,
     "metadata": {},
     "output_type": "execute_result"
    }
   ],
   "source": [
    "'c' in 'Mario'"
   ]
  },
  {
   "cell_type": "code",
   "execution_count": 10,
   "metadata": {},
   "outputs": [
    {
     "name": "stdout",
     "output_type": "stream",
     "text": [
      "Mi primer nombre contiene la letra a\n"
     ]
    }
   ],
   "source": [
    "if 'a' in first_name:\n",
    "    print('Mi primer nombre contiene la letra a')"
   ]
  },
  {
   "cell_type": "markdown",
   "metadata": {},
   "source": [
    "Ahora veremos dos maneras de iterar sobre los caracteres de un string.\n",
    "\n",
    "**Por índice:**"
   ]
  },
  {
   "cell_type": "code",
   "execution_count": 13,
   "metadata": {},
   "outputs": [
    {
     "name": "stdout",
     "output_type": "stream",
     "text": [
      "M\n",
      "a\n",
      "r\n",
      "i\n",
      "o\n"
     ]
    }
   ],
   "source": [
    "first_name = 'Mario'\n",
    "#print(len(first_name))\n",
    "\n",
    "# len(first_name) : cantidad de caracteres que tiene la cadena\n",
    "\n",
    "for i in range(len(first_name)):\n",
    "    print(first_name[i])"
   ]
  },
  {
   "cell_type": "markdown",
   "metadata": {},
   "source": [
    "**Los strings son objetos iterables:**"
   ]
  },
  {
   "cell_type": "code",
   "execution_count": 11,
   "metadata": {},
   "outputs": [
    {
     "name": "stdout",
     "output_type": "stream",
     "text": [
      "M\n",
      "a\n",
      "r\n",
      "i\n",
      "o\n"
     ]
    }
   ],
   "source": [
    "for c in first_name:\n",
    "    print(c)"
   ]
  },
  {
   "cell_type": "markdown",
   "metadata": {},
   "source": [
    "## Comparación de cadenas\n",
    "\n",
    "La comparación de dos cadenas es según su orden *lexicográfico*, es decir, el mismo que en el diccionario. Supongamos que dos cadenas se encuentran escritas en el diccionario, aquella que aparezca primera, será menor que la otra cadena. \n",
    "\n",
    "Podemos definir el orden *lexicográfico* en dos reglas. Dada dos cadenas $s$ y $t$, la cadena $s$ será menor lexicográficamente que la cadena $t$ si y solo si:\n",
    "\n",
    "1. $s$ es prefijo de $t$.\n",
    "    \n",
    "    Por ejemplo:\n",
    "    \n",
    "    $s$ = 'para' $\\rightarrow$ $t$ = 'paraguas'\n",
    "    \n",
    "    $s$ = 'abc' $\\rightarrow$ $t$ = 'abcdef'\n",
    "\n",
    "2. En la primera posición, desde la izquierda, donde $s$ y $t$ difieren, el carácter de $s$ es menor al de $t$.\n",
    "\n",
    "    Por ejemplo:\n",
    "\n",
    "    $s$ = 'carrito' $\\rightarrow$ $t$ = 'carroza'\n",
    "\n",
    "    $s$ = 'abcde' $\\rightarrow$ $t$ = 'abcz'\n",
    "\n",
    "    $s$ = 'ardilla' $\\rightarrow$ $t$ = 'elefante'\n"
   ]
  },
  {
   "cell_type": "code",
   "execution_count": 14,
   "metadata": {},
   "outputs": [
    {
     "data": {
      "text/plain": [
       "True"
      ]
     },
     "execution_count": 14,
     "metadata": {},
     "output_type": "execute_result"
    }
   ],
   "source": [
    "s = 'para'\n",
    "t = 'paraguas'\n",
    "\n",
    "s < t"
   ]
  },
  {
   "cell_type": "code",
   "execution_count": 15,
   "metadata": {},
   "outputs": [
    {
     "data": {
      "text/plain": [
       "True"
      ]
     },
     "execution_count": 15,
     "metadata": {},
     "output_type": "execute_result"
    }
   ],
   "source": [
    "'abc' < 'abcdef'"
   ]
  },
  {
   "cell_type": "code",
   "execution_count": 18,
   "metadata": {},
   "outputs": [
    {
     "data": {
      "text/plain": [
       "True"
      ]
     },
     "execution_count": 18,
     "metadata": {},
     "output_type": "execute_result"
    }
   ],
   "source": [
    "'carrito' < 'carroza'"
   ]
  },
  {
   "cell_type": "code",
   "execution_count": 19,
   "metadata": {},
   "outputs": [
    {
     "data": {
      "text/plain": [
       "True"
      ]
     },
     "execution_count": 19,
     "metadata": {},
     "output_type": "execute_result"
    }
   ],
   "source": [
    "'abcde' < 'abcz'"
   ]
  },
  {
   "cell_type": "code",
   "execution_count": 20,
   "metadata": {},
   "outputs": [
    {
     "data": {
      "text/plain": [
       "True"
      ]
     },
     "execution_count": 20,
     "metadata": {},
     "output_type": "execute_result"
    }
   ],
   "source": [
    "'ardilla' < 'elefante'"
   ]
  },
  {
   "cell_type": "markdown",
   "metadata": {},
   "source": [
    "Ahora ya sabemos cómo comparar cadenas, pero solo cadenas que contienen letras. ¿Qué sucede si comparamos cadenas que no solo consisten en letras, sino en cualquier tipo de caracter?\n",
    "\n",
    "Veamos algunos ejemplos:"
   ]
  },
  {
   "cell_type": "code",
   "execution_count": 21,
   "metadata": {},
   "outputs": [
    {
     "data": {
      "text/plain": [
       "True"
      ]
     },
     "execution_count": 21,
     "metadata": {},
     "output_type": "execute_result"
    }
   ],
   "source": [
    "# Comparación de dos letras\n",
    "\n",
    "'a' < 'z'"
   ]
  },
  {
   "cell_type": "code",
   "execution_count": 22,
   "metadata": {},
   "outputs": [
    {
     "data": {
      "text/plain": [
       "False"
      ]
     },
     "execution_count": 22,
     "metadata": {},
     "output_type": "execute_result"
    }
   ],
   "source": [
    "'a' < '('"
   ]
  },
  {
   "cell_type": "code",
   "execution_count": 23,
   "metadata": {},
   "outputs": [
    {
     "data": {
      "text/plain": [
       "True"
      ]
     },
     "execution_count": 23,
     "metadata": {},
     "output_type": "execute_result"
    }
   ],
   "source": [
    "'a' < '{'"
   ]
  },
  {
   "cell_type": "code",
   "execution_count": 24,
   "metadata": {},
   "outputs": [
    {
     "data": {
      "text/plain": [
       "False"
      ]
     },
     "execution_count": 24,
     "metadata": {},
     "output_type": "execute_result"
    }
   ],
   "source": [
    "'a' < '0'"
   ]
  },
  {
   "cell_type": "markdown",
   "metadata": {},
   "source": [
    "Vemos que la comparación entre el caracter `a` y caracteres como paréntesis, llaves o números nos retornan resultados. ¿Acaso estos resultados tienen algún sentido? Pues sí. Python, y la mayoría de lenguajes de programación, siguen el orden de la tabla ascii:\n",
    "\n",
    "<center><img src='../Images/ASCII table.jpg' width=1000/></center>\n",
    "\n",
    "Cada caracter tiene asociado un valor numérico. Un **caracter será menor que otro**, si su **valor numérico en la tabla ascii es menor**. "
   ]
  },
  {
   "cell_type": "markdown",
   "metadata": {},
   "source": [
    "Podemos obtener el valor numérico de un caracter con la función `ord()`:"
   ]
  },
  {
   "cell_type": "code",
   "execution_count": 25,
   "metadata": {},
   "outputs": [
    {
     "data": {
      "text/plain": [
       "97"
      ]
     },
     "execution_count": 25,
     "metadata": {},
     "output_type": "execute_result"
    }
   ],
   "source": [
    "ord('a')"
   ]
  },
  {
   "cell_type": "code",
   "execution_count": 26,
   "metadata": {},
   "outputs": [
    {
     "data": {
      "text/plain": [
       "36"
      ]
     },
     "execution_count": 26,
     "metadata": {},
     "output_type": "execute_result"
    }
   ],
   "source": [
    "ord('$')"
   ]
  },
  {
   "cell_type": "markdown",
   "metadata": {},
   "source": [
    "Y podemos aplicar la operación inversa, convertir un valor numérico a un caracter con `chr()`:"
   ]
  },
  {
   "cell_type": "code",
   "execution_count": 30,
   "metadata": {},
   "outputs": [
    {
     "data": {
      "text/plain": [
       "'a'"
      ]
     },
     "execution_count": 30,
     "metadata": {},
     "output_type": "execute_result"
    }
   ],
   "source": [
    "chr(97)"
   ]
  },
  {
   "cell_type": "code",
   "execution_count": null,
   "metadata": {},
   "outputs": [],
   "source": [
    "chr(36)"
   ]
  },
  {
   "cell_type": "code",
   "execution_count": 31,
   "metadata": {},
   "outputs": [
    {
     "data": {
      "text/plain": [
       "'36'"
      ]
     },
     "execution_count": 31,
     "metadata": {},
     "output_type": "execute_result"
    }
   ],
   "source": [
    "str(36)"
   ]
  },
  {
   "cell_type": "markdown",
   "metadata": {},
   "source": [
    "Algo importante a resaltar de la tabla ascii, es que los caracteres de los números y las letras del abecedario están contiguas y en orden. Con esto, podríamos imprimir todo el abecedario:"
   ]
  },
  {
   "cell_type": "code",
   "execution_count": 32,
   "metadata": {},
   "outputs": [
    {
     "name": "stdout",
     "output_type": "stream",
     "text": [
      "a\n",
      "b\n",
      "c\n",
      "d\n",
      "e\n",
      "f\n",
      "g\n",
      "h\n",
      "i\n",
      "j\n",
      "k\n",
      "l\n",
      "m\n",
      "n\n",
      "o\n",
      "p\n",
      "q\n",
      "r\n",
      "s\n",
      "t\n",
      "u\n",
      "v\n",
      "w\n",
      "x\n",
      "y\n",
      "z\n"
     ]
    }
   ],
   "source": [
    "a_value = ord('a')\n",
    "z_value = ord('z')\n",
    "\n",
    "# Iteramos desde el valor de 'a' hasta el valor de 'z'\n",
    "for i in range(a_value, z_value+1):\n",
    "    # Imprimimos el caracter\n",
    "    print(chr(i))"
   ]
  },
  {
   "cell_type": "code",
   "execution_count": 33,
   "metadata": {},
   "outputs": [
    {
     "data": {
      "text/plain": [
       "['__add__',\n",
       " '__class__',\n",
       " '__contains__',\n",
       " '__delattr__',\n",
       " '__dir__',\n",
       " '__doc__',\n",
       " '__eq__',\n",
       " '__format__',\n",
       " '__ge__',\n",
       " '__getattribute__',\n",
       " '__getitem__',\n",
       " '__getnewargs__',\n",
       " '__getstate__',\n",
       " '__gt__',\n",
       " '__hash__',\n",
       " '__init__',\n",
       " '__init_subclass__',\n",
       " '__iter__',\n",
       " '__le__',\n",
       " '__len__',\n",
       " '__lt__',\n",
       " '__mod__',\n",
       " '__mul__',\n",
       " '__ne__',\n",
       " '__new__',\n",
       " '__reduce__',\n",
       " '__reduce_ex__',\n",
       " '__repr__',\n",
       " '__rmod__',\n",
       " '__rmul__',\n",
       " '__setattr__',\n",
       " '__sizeof__',\n",
       " '__str__',\n",
       " '__subclasshook__',\n",
       " 'capitalize',\n",
       " 'casefold',\n",
       " 'center',\n",
       " 'count',\n",
       " 'encode',\n",
       " 'endswith',\n",
       " 'expandtabs',\n",
       " 'find',\n",
       " 'format',\n",
       " 'format_map',\n",
       " 'index',\n",
       " 'isalnum',\n",
       " 'isalpha',\n",
       " 'isascii',\n",
       " 'isdecimal',\n",
       " 'isdigit',\n",
       " 'isidentifier',\n",
       " 'islower',\n",
       " 'isnumeric',\n",
       " 'isprintable',\n",
       " 'isspace',\n",
       " 'istitle',\n",
       " 'isupper',\n",
       " 'join',\n",
       " 'ljust',\n",
       " 'lower',\n",
       " 'lstrip',\n",
       " 'maketrans',\n",
       " 'partition',\n",
       " 'removeprefix',\n",
       " 'removesuffix',\n",
       " 'replace',\n",
       " 'rfind',\n",
       " 'rindex',\n",
       " 'rjust',\n",
       " 'rpartition',\n",
       " 'rsplit',\n",
       " 'rstrip',\n",
       " 'split',\n",
       " 'splitlines',\n",
       " 'startswith',\n",
       " 'strip',\n",
       " 'swapcase',\n",
       " 'title',\n",
       " 'translate',\n",
       " 'upper',\n",
       " 'zfill']"
      ]
     },
     "execution_count": 33,
     "metadata": {},
     "output_type": "execute_result"
    }
   ],
   "source": [
    "dir(str)"
   ]
  },
  {
   "cell_type": "code",
   "execution_count": 41,
   "metadata": {},
   "outputs": [
    {
     "name": "stdout",
     "output_type": "stream",
     "text": [
      "ESCUELA IT\n",
      "Escuela it\n",
      "Escuela It\n",
      "False\n",
      "True\n",
      "True\n"
     ]
    }
   ],
   "source": [
    "string = \"escuela it\"\n",
    "print(string.upper())\n",
    "print(string.capitalize())\n",
    "print(string.title())\n",
    "string = \"123\"\n",
    "print(string.isalpha())\n",
    "print(string.isalnum())\n",
    "print(string.isdigit())"
   ]
  }
 ],
 "metadata": {
  "kernelspec": {
   "display_name": "Python 3 (ipykernel)",
   "language": "python",
   "name": "python3"
  },
  "language_info": {
   "codemirror_mode": {
    "name": "ipython",
    "version": 3
   },
   "file_extension": ".py",
   "mimetype": "text/x-python",
   "name": "python",
   "nbconvert_exporter": "python",
   "pygments_lexer": "ipython3",
   "version": "3.11.7"
  }
 },
 "nbformat": 4,
 "nbformat_minor": 4
}
